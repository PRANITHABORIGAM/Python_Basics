{
 "cells": [
  {
   "cell_type": "markdown",
   "metadata": {},
   "source": [
    "# Tuples, Lists, and Dictionaries\n",
    "## Introduction\n",
    "\n",
    "- variables store one bit of information. They may regurgitate that information at any point, and their bit of information can be changed at any time. Variables are great at what they do - storing a piece of information that may change over time.\n",
    "\n",
    "But what if you need to store a long list of information, which doesn't change over time? Say, for example, the names of the months of the year. Or maybe a long list of information that does change over time? Say, for example, the names of all your friends. You might get new friends, some may leave. What about a phone book? For that you need to do a bit of referencing - you would have a list of names, and attached to each of those names, a phone number."
   ]
  },
  {
   "cell_type": "markdown",
   "metadata": {},
   "source": [
    "##  Lists, Tuples, and Dictionaries\n",
    "* **Lists** are what they seem - a list of values. Each one of them is numbered, starting from zero - the first one is numbered zero, the second 1, the third 2, etc. You can remove values from the list, and add new values to the end. Example: Your many cats' names.\n",
    "* **Tuples** are just like lists, but you can't change their values. The values that you give it first up, are the values that you are stuck with for the rest of the program. Again, each value is numbered starting from zero, for easy reference. Example: the names of the months of the year.\n",
    "* **Dictionaries** are similar to what their name suggests - a dictionary. In a dictionary, you have an 'index' of words, and for each of them a definition. In Python, the word is called a 'key', and the definition a 'value'. The values in a dictionary aren't numbered - they aren't in any specific order, either - the key does the same thing. You can add, remove, and modify the values in dictionaries. Example: telephone book."
   ]
  },
  {
   "cell_type": "markdown",
   "metadata": {},
   "source": [
    "### Tuples\n",
    "You give your tuple a name, then after that the list of values it will carry. For example, the months of the year:"
   ]
  },
  {
   "cell_type": "code",
   "execution_count": 4,
   "metadata": {},
   "outputs": [],
   "source": [
    "months = ('January','February','March','April','May','June',\\\n",
    "'July','August','September','October','November','  December')"
   ]
  },
  {
   "cell_type": "markdown",
   "metadata": {},
   "source": [
    "* Note that the `\\` thingy at the end of the first line carries over that line of code to the next line. It is useful way of making big lines more readable.\n",
    "* Technically you don't have to put those parentheses, but it stops Python from getting things confused.\n",
    "* You may have spaces after the commas if you feel it necessary - it doesn't really matter"
   ]
  },
  {
   "cell_type": "markdown",
   "metadata": {},
   "source": [
    "Python then organises those values in a handy, numbered index - starting from zero, in the order that you entered them in. It would be organised like this:<br>\n",
    "\n",
    "| Index | Value |\n",
    "| :---: | :---: |\n",
    "| 0 | January |\n",
    "| 1 | February |\n",
    "| 2 | March |\n",
    "| 3 | April |\n",
    "| 4 | May |\n",
    "| 5 | June |\n",
    "| 6 | July |\n",
    "| 7 | August |\n",
    "| 8 | September |\n",
    "| 9 | October |\n",
    "| 10 | November |\n",
    "| 11 | December |\n"
   ]
  },
  {
   "cell_type": "markdown",
   "metadata": {},
   "source": [
    "### Lists\n",
    "Lists are extremely similar to tuples. Lists are modifiable (or 'mutable', as a programmer may say), so their values can be changed. Most of the time we use lists, not tuples, because we want to easily change the values of things if we need to.\n",
    "\n",
    "Lists are defined very similarly to tuples. Say you have FIVE cats, called Tom, Snappy, Kitty, Jessie and Chester. To put them in a list, you would do this:<br>"
   ]
  },
  {
   "cell_type": "code",
   "execution_count": 6,
   "metadata": {},
   "outputs": [],
   "source": [
    "cats = ['Tom', 'Snappy', 'Kitty', 'Jessie', 'Chester']"
   ]
  },
  {
   "cell_type": "markdown",
   "metadata": {},
   "source": [
    "As you see, the code is exactly the same as a tuple, EXCEPT that all the values are put between square brackets, not parentheses. Again, you don't have to have spaces after the comma.\n",
    "\n",
    "You recall values from lists exactly the same as you do with tuples. For example, to print the name of your 3rd cat you would do this:"
   ]
  },
  {
   "cell_type": "code",
   "execution_count": 7,
   "metadata": {},
   "outputs": [
    {
     "name": "stdout",
     "output_type": "stream",
     "text": [
      "Kitty\n"
     ]
    }
   ],
   "source": [
    "print(cats[2])"
   ]
  },
  {
   "cell_type": "markdown",
   "metadata": {},
   "source": [
    "You can also recall a range of examples, like above, for example - `cats[0:2]` would recall your 1st and 2nd cats. Try it in the field above.\n",
    "\n",
    "Where lists come into their own is how they can be modified. To add a value to a list, you use the `append()` function. Let's say you got a new cat called Catherine. To add her to the list you'd do this:"
   ]
  },
  {
   "cell_type": "code",
   "execution_count": 15,
   "metadata": {},
   "outputs": [],
   "source": [
    "cats.append('Catherine')"
   ]
  },
  {
   "cell_type": "markdown",
   "metadata": {},
   "source": [
    "Use the field below to check if the cat has been added to the list."
   ]
  },
  {
   "cell_type": "markdown",
   "metadata": {},
   "source": [
    "Check again which cats are in the list:"
   ]
  },
  {
   "cell_type": "code",
   "execution_count": 9,
   "metadata": {},
   "outputs": [],
   "source": [
    "#Remove your 2nd cat, Snappy. Woe is you.\n",
    "del cats[1]"
   ]
  },
  {
   "cell_type": "code",
   "execution_count": 16,
   "metadata": {},
   "outputs": [],
   "source": [
    "cats.insert(0,\"cat1\")"
   ]
  },
  {
   "cell_type": "code",
   "execution_count": 17,
   "metadata": {},
   "outputs": [
    {
     "name": "stdout",
     "output_type": "stream",
     "text": [
      "['cat1', 'Tom', 'Kitty', 'Jessie', 'Chester', 'Catherine', 'Catherine', 'Catherine', 'Catherine']\n"
     ]
    }
   ],
   "source": [
    "print(cats)"
   ]
  },
  {
   "cell_type": "markdown",
   "metadata": {},
   "source": [
    "### Dictionaries\n",
    "\n",
    "Now, the lists we've used above aren't really suitable for a telephone book. You need to know a number based on someone's name - not the other way around, like what we did with the cats. In the examples of months and cats, we gave the computer a number, and it gave us a name. This time we want to give the computer a name, and it gives us a number. For this we need *Dictionaries*.\n",
    "\n",
    "When you initially create a dictionary, it is very much like making a tuple or list. Tuples have `(` and `)` things, lists have `[` and `]` things. Guess what! Dictionaries have `{` and `}` things - curly braces. Here is an example below, showing a dictionary with four phone numbers in it:"
   ]
  },
  {
   "cell_type": "code",
   "execution_count": null,
   "metadata": {},
   "outputs": [],
   "source": [
    "#Make the phone book:\n",
    "phonebook = {'Andrew Parson':8806336, \\\n",
    "'Emily Everett':6784346, 'Peter Power':7658344, \\\n",
    "'Lewis Lame':1122345}\n",
    "print(phonebook['Lewis Lame'])"
   ]
  },
  {
   "cell_type": "markdown",
   "metadata": {},
   "source": [
    "When you run it you see that Lewis Lame's number is printed onscreen. Notice how instead of identifying the value by a number, like in the cats and months examples, we identify the value, using another value - in this case the person's name.\n",
    "\n",
    "Ok, you've created a new phone book. Now you want to add new numbers to the book. What do you do? A very simple line of code:"
   ]
  },
  {
   "cell_type": "code",
   "execution_count": null,
   "metadata": {},
   "outputs": [],
   "source": [
    "#Add the person 'Gingerbread Man' to the phonebook:\n",
    "\n",
    "phonebook['Gingerbread Man'] = 1234567\n",
    "\n"
   ]
  },
  {
   "cell_type": "markdown",
   "metadata": {},
   "source": [
    "All that line is saying is that there is a person called Gingerbread Man in the phone book, and his number is `1234567`. In other words - the key is `Gingerbread Man`, and the value is `1234567`."
   ]
  },
  {
   "cell_type": "code",
   "execution_count": null,
   "metadata": {},
   "outputs": [],
   "source": []
  },
  {
   "cell_type": "code",
   "execution_count": null,
   "metadata": {},
   "outputs": [],
   "source": [
    "del phonebook['Andrew Parson']"
   ]
  },
  {
   "cell_type": "markdown",
   "metadata": {},
   "source": [
    "Again, very easy. the `del` operator deletes any function, variable, or entry in a list or dictionary (An entry in a dictionary is just a variable with a number or text string as a name. This comes in handy later on.)"
   ]
  },
  {
   "cell_type": "markdown",
   "metadata": {},
   "source": [
    "Check if the number is gone using the field below."
   ]
  },
  {
   "cell_type": "code",
   "execution_count": null,
   "metadata": {},
   "outputs": [],
   "source": []
  },
  {
   "cell_type": "code",
   "execution_count": 18,
   "metadata": {},
   "outputs": [
    {
     "name": "stdout",
     "output_type": "stream",
     "text": [
      "Sue is in the dictionary. She is 23 years old\n",
      "The following people are in the dictionary:\n",
      "dict_keys(['Sue', 'Peter', 'Andrew', 'Karren'])\n",
      "People are aged the following: dict_values([23, 19, 78, 45])\n",
      "dict_keys(['Sue', 'Peter', 'Andrew', 'Karren'])\n",
      "['Andrew', 'Karren', 'Peter', 'Sue']\n",
      "dict_values([23, 19, 78, 45])\n",
      "[19, 23, 45, 78]\n",
      "The dictionary has 4 entries in it\n"
     ]
    }
   ],
   "source": [
    "#A few examples of a dictionary\n",
    "\n",
    "#First we define the dictionary\n",
    "#it will have nothing in it this time\n",
    "ages = {}\n",
    "\n",
    "#Add a couple of names to the dictionary\n",
    "ages['Sue'] = 23\n",
    "ages['Peter'] = 19\n",
    "ages['Andrew'] = 78\n",
    "ages['Karren'] = 45\n",
    "\n",
    "#Use an 'if' statement to find a key in the list.\n",
    "#Remember - this is how 'if' statements work -\n",
    "#they run if something is true\n",
    "#and they don't when something is false.\n",
    "if 'Sue' in ages:\n",
    "    print(\"Sue is in the dictionary. She is\", ages['Sue'], \"years old\")\n",
    "\n",
    "else:\n",
    "    print(\"Sue is not in the dictionary\")\n",
    "\n",
    "#Use the function keys() - \n",
    "#This function returns a list\n",
    "#of all the names of the keys.\n",
    "#E.g.\n",
    "print(\"The following people are in the dictionary:\")\n",
    "print(ages.keys())\n",
    "\n",
    "#You could use this function to\n",
    "#put all the key names in a list:\n",
    "keys = ages.keys()\n",
    "\n",
    "#You can also get a list\n",
    "#of all the values in a dictionary.\n",
    "#You use the values() function:\n",
    "print(\"People are aged the following:\", \\\n",
    "ages.values())\n",
    "\n",
    "#Put it in a list:\n",
    "values = ages.values()\n",
    "\n",
    "#You can sort lists, with the sorted() function\n",
    "#It will sort all values in a list\n",
    "#alphabetically, numerically, etc...\n",
    "#You can't sort dictionaries - \n",
    "#they are in no particular order\n",
    "print(keys)\n",
    "sortedkeys = sorted(keys)\n",
    "print(sortedkeys)\n",
    "\n",
    "print(values)\n",
    "sortedvalues = sorted(values)\n",
    "print(sortedvalues)\n",
    "\n",
    "#You can find the number of entries\n",
    "#with the len() function:\n",
    "print(\"The dictionary has\", \\\n",
    "len(ages), \"entries in it\")"
   ]
  }
 ],
 "metadata": {
  "kernelspec": {
   "display_name": "Python 3 (ipykernel)",
   "language": "python",
   "name": "python3"
  },
  "language_info": {
   "codemirror_mode": {
    "name": "ipython",
    "version": 3
   },
   "file_extension": ".py",
   "mimetype": "text/x-python",
   "name": "python",
   "nbconvert_exporter": "python",
   "pygments_lexer": "ipython3",
   "version": "3.12.3"
  }
 },
 "nbformat": 4,
 "nbformat_minor": 4
}
