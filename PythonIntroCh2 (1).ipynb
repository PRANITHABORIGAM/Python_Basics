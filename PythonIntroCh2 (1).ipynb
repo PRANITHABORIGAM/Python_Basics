{
 "cells": [
  {
   "cell_type": "markdown",
   "metadata": {},
   "source": [
    "## Variables\n",
    "Variables store a value, that can be looked at or changed at a later time. Let's make a program that uses variables:"
   ]
  },
  {
   "cell_type": "code",
   "execution_count": 9,
   "metadata": {},
   "outputs": [
    {
     "name": "stdout",
     "output_type": "stream",
     "text": [
      "This program is a demo of variables\n",
      "The value of v is now 1\n",
      "v now equals itself plus one, making it worth 2\n",
      "v can store any numerical value, to be used elsewhere.\n",
      "for example, in a sentence. v is now worth 51\n",
      "v times 5 equals 255\n",
      "but v still only remains 51\n",
      "to make v five times bigger, you would have to type v = v * 5\n",
      "there you go, now v equals 255 and not 51.0\n"
     ]
    }
   ],
   "source": [
    "#variables demonstrated\n",
    "print(\"This program is a demo of variables\")\n",
    "v = 1\n",
    "print(\"The value of v is now\", v)\n",
    "v = v + 1\n",
    "print(\"v now equals itself plus one, making it worth\", v)\n",
    "v = 51\n",
    "print(\"v can store any numerical value, to be used elsewhere.\")\n",
    "print(\"for example, in a sentence. v is now worth\", v)\n",
    "print(\"v times 5 equals\", v * 5)\n",
    "print(\"but v still only remains\", v)\n",
    "print(\"to make v five times bigger, you would have to type v = v * 5\")\n",
    "v = v * 5\n",
    "print(\"there you go, now v equals\", v, \"and not\", v / 5)"
   ]
  },
  {
   "cell_type": "markdown",
   "metadata": {},
   "source": [
    "Note that we can also write `v = v + 1` as `v += 1`. This can be used for all operators (e.g. `-=`, `*=`,`/=`).\n",
    "\n",
    "It is good practice to use lowercase for variables. Don't use special characters and don't start with a number!"
   ]
  },
  {
   "cell_type": "markdown",
   "metadata": {},
   "source": [
    "## Strings\n",
    "As you can see, variables store values, for use at a later time. You can change them at any time. You can put in more than numbers, though. Variables can hold things like text. A variable that holds text is called a string."
   ]
  },
  {
   "cell_type": "code",
   "execution_count": 10,
   "metadata": {},
   "outputs": [
    {
     "name": "stdout",
     "output_type": "stream",
     "text": [
      "Good morning\n",
      "Good morning to you too!\n"
     ]
    }
   ],
   "source": [
    "#giving variables text, and adding text.\n",
    "word1 = \"Good\"\n",
    "word2 = \"morning\"\n",
    "word3 = \"to you too!\"\n",
    "print(word1, word2)\n",
    "sentence = word1 + \" \" + word2 + \" \" + word3\n",
    "print(sentence)"
   ]
  },
  {
   "cell_type": "markdown",
   "metadata": {},
   "source": [
    "As you see, the variables above were holding text. Variable names can also be longer than one letter - here, we had `word1`, `word2`, and `word3`. As you can also see, strings can be added together to make longer words or sentences. However, it doesn't add spaces in between the words - hence me putting in the `\" \"` things (there is one space between those).\n",
    "\n",
    "Often we need to manipulate strings. For example if we want to edit file names or make selections from text. Strings are similar to `lists'. So similar operations (called *list slicing*) apply to strings.\n",
    "\n"
   ]
  },
  {
   "cell_type": "code",
   "execution_count": 11,
   "metadata": {},
   "outputs": [
    {
     "data": {
      "text/plain": [
       "10"
      ]
     },
     "execution_count": 11,
     "metadata": {},
     "output_type": "execute_result"
    }
   ],
   "source": [
    "text = \"abcdefghij\"\n",
    "len(text)"
   ]
  },
  {
   "cell_type": "markdown",
   "metadata": {},
   "source": [
    "Yes, it shows us the amount of characters in a string."
   ]
  },
  {
   "cell_type": "code",
   "execution_count": 12,
   "metadata": {},
   "outputs": [
    {
     "name": "stdout",
     "output_type": "stream",
     "text": [
      "e\n"
     ]
    }
   ],
   "source": [
    "print(text[4])"
   ]
  },
  {
   "cell_type": "markdown",
   "metadata": {},
   "source": [
    "Here we want to print the character at position 4. Note that the first character \"a\" is at position 0! So position 4 gives us back \"e\".\n"
   ]
  },
  {
   "cell_type": "code",
   "execution_count": 13,
   "metadata": {},
   "outputs": [
    {
     "name": "stdout",
     "output_type": "stream",
     "text": [
      "abcd\n"
     ]
    }
   ],
   "source": [
    "print(text[:4])"
   ]
  },
  {
   "cell_type": "code",
   "execution_count": 14,
   "metadata": {},
   "outputs": [
    {
     "name": "stdout",
     "output_type": "stream",
     "text": [
      "efghij\n"
     ]
    }
   ],
   "source": [
    "print(text[4:])"
   ]
  },
  {
   "cell_type": "markdown",
   "metadata": {},
   "source": [
    "Here you see that `[:4]` selects characters 0,1,2,3, which is \"abcd\". With `[4:]` we start with position 4 (counting from 0!) until the end of the string, which results in \"efghij\".\n",
    "\n",
    "We can also specify a range."
   ]
  },
  {
   "cell_type": "code",
   "execution_count": 26,
   "metadata": {},
   "outputs": [
    {
     "name": "stdout",
     "output_type": "stream",
     "text": [
      "efgh\n"
     ]
    }
   ],
   "source": [
    "print(text[4:8])"
   ]
  },
  {
   "cell_type": "markdown",
   "metadata": {},
   "source": [
    "Was it what you expected?\n",
    "With ranges, the maximum value is not included in the selection.\n",
    "\n",
    "We still have the variable `sentence` available. Write code below to select the second word of the sentence using the correct range."
   ]
  },
  {
   "cell_type": "code",
   "execution_count": 16,
   "metadata": {},
   "outputs": [
    {
     "name": "stdout",
     "output_type": "stream",
     "text": [
      "i\n"
     ]
    }
   ],
   "source": [
    "print(text[-2])"
   ]
  },
  {
   "cell_type": "markdown",
   "metadata": {},
   "source": [
    "\n",
    "Right, you have selected the second character from the right! Note that here we start counting with -1 for the first character on the right."
   ]
  },
  {
   "cell_type": "code",
   "execution_count": 17,
   "metadata": {},
   "outputs": [
    {
     "name": "stdout",
     "output_type": "stream",
     "text": [
      "ghij\n"
     ]
    }
   ],
   "source": [
    "print(text[-4:])"
   ]
  },
  {
   "cell_type": "markdown",
   "metadata": {},
   "source": [
    "In human language: start with the 4th character from the right and give me all characters from that position to the end of the string.\n"
   ]
  },
  {
   "cell_type": "code",
   "execution_count": 18,
   "metadata": {},
   "outputs": [
    {
     "name": "stdout",
     "output_type": "stream",
     "text": [
      "acegi\n"
     ]
    }
   ],
   "source": [
    "print(text[::2])"
   ]
  },
  {
   "cell_type": "markdown",
   "metadata": {},
   "source": [
    "We can also add the results of the *list slicing* to variables and insert this into strings using the format operation:"
   ]
  },
  {
   "cell_type": "code",
   "execution_count": 19,
   "metadata": {},
   "outputs": [
    {
     "name": "stdout",
     "output_type": "stream",
     "text": [
      "The sentence has 24 characters and the last word is: too\n"
     ]
    }
   ],
   "source": [
    "nrOfCharacters = len(sentence)\n",
    "lastWord = sentence[-4:-1]\n",
    "print(\"The sentence has {} characters and the last word is: {}\".format(nrOfCharacters,lastWord))"
   ]
  },
  {
   "cell_type": "markdown",
   "metadata": {},
   "source": [
    "So you can easily insert variables at the places of the accolades (`{}`). They will be substituted in the same order of the variables in `.format()`"
   ]
  },
  {
   "cell_type": "markdown",
   "metadata": {},
   "source": [
    "This can also be written as:"
   ]
  },
  {
   "cell_type": "code",
   "execution_count": 20,
   "metadata": {},
   "outputs": [
    {
     "name": "stdout",
     "output_type": "stream",
     "text": [
      "The sentence has 24 characters and the last word is: too\n"
     ]
    }
   ],
   "source": [
    "print(f\"The sentence has {nrOfCharacters} characters and the last word is: {lastWord}\")"
   ]
  },
  {
   "cell_type": "markdown",
   "metadata": {},
   "source": [
    "Besides *list slicing* there are also other operations that we can apply to strings.\n",
    "We can count the number of occurences of a specific character in a string:"
   ]
  },
  {
   "cell_type": "code",
   "execution_count": 21,
   "metadata": {},
   "outputs": [
    {
     "name": "stdout",
     "output_type": "stream",
     "text": [
      "7\n"
     ]
    }
   ],
   "source": [
    "print(sentence.count('o'))"
   ]
  },
  {
   "cell_type": "markdown",
   "metadata": {},
   "source": [
    "We can also find the position of character:"
   ]
  },
  {
   "cell_type": "code",
   "execution_count": 22,
   "metadata": {},
   "outputs": [
    {
     "name": "stdout",
     "output_type": "stream",
     "text": [
      "4\n"
     ]
    }
   ],
   "source": [
    "print(text.find('e'))"
   ]
  },
  {
   "cell_type": "code",
   "execution_count": 23,
   "metadata": {},
   "outputs": [
    {
     "name": "stdout",
     "output_type": "stream",
     "text": [
      "17\n"
     ]
    }
   ],
   "source": [
    "sometext = \"Hey you, how are you doing?\"\n",
    "print(sometext.rfind(\"you\"))"
   ]
  },
  {
   "cell_type": "markdown",
   "metadata": {},
   "source": [
    "`rfind` returns the lasts occurance of a string. So in `sometext` we have the word \"you\" twice. `rfind` returns `17` meaning that the last time that it found \"you\" is starting at position 17 (counting from 0).\n",
    "\n",
    "There are a few other useful string operations."
   ]
  },
  {
   "cell_type": "code",
   "execution_count": 24,
   "metadata": {},
   "outputs": [
    {
     "name": "stdout",
     "output_type": "stream",
     "text": [
      "HEY YOU, HOW ARE YOU DOING?\n",
      "['Hey you', ' how are you doing?']\n",
      "Hey you, how are you doing!\n"
     ]
    }
   ],
   "source": [
    "# Changes the string to upper case\n",
    "print(sometext.upper())\n",
    "\n",
    "# Splits the string on a character and returns it as list items. \n",
    "print(sometext.split(\",\"))\n",
    "\n",
    "# Replaces strings\n",
    "print(sometext.replace(\"?\",\"!\"))"
   ]
  },
  {
   "cell_type": "markdown",
   "metadata": {},
   "source": [
    "There are also some special characters:\n",
    "\n",
    "`\\n` jumps to a new line\n",
    "\n",
    "`\\` is an escape character. You can put it before another character that has a meaning in the code and is not considered a string. This is often used to have strings with backslashes for file names on Windows (e.g. `\"C:\\\\folder\\\\filename.txt\"`). Because `\\` is already an escape character we need to use it twice to escape the escape character!\n",
    "\n",
    "Examples:"
   ]
  },
  {
   "cell_type": "code",
   "execution_count": 27,
   "metadata": {},
   "outputs": [
    {
     "name": "stdout",
     "output_type": "stream",
     "text": [
      "This is a very long sentence and I want to split it into two lines.\n",
      "This is a very long sentence\n",
      "and I want to split it into two lines.\n",
      "This sentence contains a quote and I don't want the string to end (yet)\"\n"
     ]
    }
   ],
   "source": [
    "print(\"This is a very long sentence and I want to split it into two lines.\")\n",
    "print(\"This is a very long sentence\\nand I want to split it into two lines.\")\n",
    "\n",
    "print(\"This sentence contains a quote and I don't want the string to end (yet)\\\"\")"
   ]
  },
  {
   "cell_type": "markdown",
   "metadata": {},
   "source": [
    "# Loops\n",
    "\n",
    "Just imagine you needed a program to do something 20 times. What would you do? You could copy and paste the code 20 times, and have a virtually unreadable program, not to mention slow and pointless. Or, you could tell the computer to repeat a bit of code between point A and point B, until the time comes that you need it to stop. Such a thing is called a loop. \n",
    "# The 'While' loop"
   ]
  },
  {
   "cell_type": "code",
   "execution_count": 28,
   "metadata": {},
   "outputs": [
    {
     "name": "stdout",
     "output_type": "stream",
     "text": [
      "1\n",
      "2\n",
      "3\n",
      "4\n",
      "5\n",
      "6\n",
      "7\n",
      "8\n",
      "9\n",
      "10\n"
     ]
    }
   ],
   "source": [
    "a = 0\n",
    "while a < 10:\n",
    "    a = a + 1\n",
    "    print(a)"
   ]
  },
  {
   "cell_type": "markdown",
   "metadata": {},
   "source": [
    "Prints value of a until the conditions fails.\n",
    "```\n",
    "while {condition that the loop continues}:\n",
    "    {what to do in the loop}\n",
    "    {have it indented, usually four spaces}\n",
    "the code here is not looped\n",
    "because it isn't indented\n",
    "```"
   ]
  },
  {
   "cell_type": "code",
   "execution_count": 29,
   "metadata": {},
   "outputs": [
    {
     "name": "stdout",
     "output_type": "stream",
     "text": [
      "10\n",
      "wow, we've counted x down, and now it equals 9\n",
      "9\n",
      "wow, we've counted x down, and now it equals 8\n",
      "8\n",
      "wow, we've counted x down, and now it equals 7\n",
      "7\n",
      "wow, we've counted x down, and now it equals 6\n",
      "6\n",
      "wow, we've counted x down, and now it equals 5\n",
      "5\n",
      "wow, we've counted x down, and now it equals 4\n",
      "4\n",
      "wow, we've counted x down, and now it equals 3\n",
      "3\n",
      "wow, we've counted x down, and now it equals 2\n",
      "2\n",
      "wow, we've counted x down, and now it equals 1\n",
      "1\n",
      "wow, we've counted x down, and now it equals 0\n",
      "And now the loop has ended.\n"
     ]
    }
   ],
   "source": [
    "x = 10\n",
    "while x != 0:\n",
    "    print(x)\n",
    "    x = x - 1\n",
    "    print(\"wow, we've counted x down, and now it equals\", x)\n",
    "print(\"And now the loop has ended.\")"
   ]
  },
  {
   "cell_type": "markdown",
   "metadata": {},
   "source": [
    "## Conditional Statements\n",
    "Conditionals are where a section of code is only run if certain conditions are met. This is similar to the 'while' loop you just wrote, which only runs when x doesn't equal 0. However, Conditionals are only run once. The most common conditional in any program language, is the 'if' statement. Here is how it works:<br>\n",
    "```\n",
    "if {conditions to be met}:\n",
    "    {do this}\n",
    "    {and this}\n",
    "    {and this}\n",
    "{but this happens regardless}\n",
    "{because it isn't indented}\n",
    "```\n",
    "<br>\n",
    "Now some examples in Python:"
   ]
  },
  {
   "cell_type": "code",
   "execution_count": 1,
   "metadata": {},
   "outputs": [
    {
     "name": "stdout",
     "output_type": "stream",
     "text": [
      "y still equals 1, I was just checking\n"
     ]
    }
   ],
   "source": [
    "#EXAMPLE 1\n",
    "y = 1\n",
    "if y == 1:\n",
    "    print(\"y still equals 1, I was just checking\")"
   ]
  },
  {
   "cell_type": "code",
   "execution_count": 30,
   "metadata": {},
   "outputs": [
    {
     "name": "stdout",
     "output_type": "stream",
     "text": [
      "We will show the even numbers up to 20\n",
      "2\n",
      "4\n",
      "6\n",
      "8\n",
      "10\n",
      "12\n",
      "14\n",
      "16\n",
      "18\n",
      "20\n",
      "there, done.\n"
     ]
    }
   ],
   "source": [
    "#EXAMPLE 2\n",
    "print(\"We will show the even numbers up to 20\")\n",
    "n = 1\n",
    "while n <= 20:\n",
    "    if n % 2 == 0:\n",
    "        print(n)\n",
    "    n = n + 1\n",
    "print(\"there, done.\")"
   ]
  },
  {
   "cell_type": "markdown",
   "metadata": {},
   "source": [
    "Example 2 there looks tricky. But all we have done is run an `if` statement every time the `while` loop runs. Remember that the `%` just means the remainder from a division - just checking that there is nothing left over if the number is divided by two - showing it is even. If it is even, it prints what `n` is."
   ]
  },
  {
   "cell_type": "markdown",
   "metadata": {},
   "source": [
    "## `else` and `elif` \n",
    "There are many ways you can use the `if` statement to deal with situations where your boolean expression ends up FALSE. They are `else` and `elif`.<br>\n",
    "`else` simply tells the computer what to do if the conditions of `if` aren't met. "
   ]
  },
  {
   "cell_type": "code",
   "execution_count": 31,
   "metadata": {},
   "outputs": [
    {
     "name": "stdout",
     "output_type": "stream",
     "text": [
      "This should happen.\n"
     ]
    }
   ],
   "source": [
    "a = 1\n",
    "if a > 5:\n",
    "    print(\"This shouldn't happen.\")\n",
    "else:\n",
    "    print(\"This should happen.\")"
   ]
  },
  {
   "cell_type": "markdown",
   "metadata": {},
   "source": [
    "`a` is not greater than five, therefore what is under `else` is done.\n",
    "\n",
    "`elif` is just a shortened way of saying `else if`. When the `if` statement fails to be true, `elif` will do what is under it IF the conditions are met. For example:"
   ]
  },
  {
   "cell_type": "code",
   "execution_count": 32,
   "metadata": {},
   "outputs": [
    {
     "name": "stdout",
     "output_type": "stream",
     "text": [
      "This is normal\n"
     ]
    }
   ],
   "source": [
    "z = 4\n",
    "if z > 70:\n",
    "    print(\"Something is very wrong\")\n",
    "elif z < 7:\n",
    "    print(\"This is normal\")"
   ]
  },
  {
   "cell_type": "markdown",
   "metadata": {},
   "source": [
    "The `if` statement, along with `else` and `elif` follow this form:\n",
    "```Python\n",
    "if {conditions}:\n",
    "    {run this code}\n",
    "elif {conditions}:\n",
    "    {run this code}\n",
    "elif {conditions}:\n",
    "    {run this code}\n",
    "else:\n",
    "    {run this code}\n",
    "#You can have as many or as little elif statements as you need\n",
    "#You can have at most one else statement\n",
    "#and only after all other ifs and elifs.\n",
    "```"
   ]
  },
  {
   "cell_type": "markdown",
   "metadata": {},
   "source": [
    "## Indentation\n",
    "One other point is that the code to be executed if the conditions are met, MUST BE INDENTED. That means that if you want to loop the next five lines with a `while` loop, you must put a set number of spaces at the beginning of each of the next five lines. This is good programming practice in any language, but Python requires that you do it. Here is an example of both of the above points:"
   ]
  },
  {
   "cell_type": "code",
   "execution_count": null,
   "metadata": {},
   "outputs": [],
   "source": [
    "a = 10\n",
    "while a > 0:\n",
    "    print(a)\n",
    "    if a > 5:\n",
    "        print(\"Big number!\")\n",
    "    elif a % 2 != 0:\n",
    "        print(\"This is an odd number\")\n",
    "        print(\"It isn't greater than five, either\")\n",
    "    else:\n",
    "        print(\"this number isn't greater than 5\")\n",
    "        print(\"nor is it odd\")\n",
    "        print(\"feeling special?\")\n",
    "    a = a - 1\n",
    "    print(\"we just made 'a' one less than what it was!\")\n",
    "    print(\"and unless a is not greater than 0, we'll do the loop again.\")\n",
    "print(\"well, it seems as if 'a' is now no bigger than 0!\")\n",
    "print(\"the loop is now over, and without furthur adue, so is this program!\")"
   ]
  },
  {
   "cell_type": "markdown",
   "metadata": {},
   "source": [
    "Notice the three levels of indents there:\n",
    "1. Each line in the first level starts with no spaces. It is the main program, and will always execute.\n",
    "2. Each line in the second level starts with four spaces. When there is an `if` or loop on the first level, everything on the second level after that will be looped/'ifed', until a new line starts back on the first level again.\n",
    "3.\tEach line in the third level starts with eight spaces. When there is an `if` or loop on the second level, everything on the third level after that will be looped/'ifed', until a new line starts back on the second level again."
   ]
  },
  {
   "cell_type": "code",
   "execution_count": null,
   "metadata": {},
   "outputs": [],
   "source": []
  }
 ],
 "metadata": {
  "kernelspec": {
   "display_name": "Python 3 (ipykernel)",
   "language": "python",
   "name": "python3"
  },
  "language_info": {
   "codemirror_mode": {
    "name": "ipython",
    "version": 3
   },
   "file_extension": ".py",
   "mimetype": "text/x-python",
   "name": "python",
   "nbconvert_exporter": "python",
   "pygments_lexer": "ipython3",
   "version": "3.12.3"
  }
 },
 "nbformat": 4,
 "nbformat_minor": 4
}
